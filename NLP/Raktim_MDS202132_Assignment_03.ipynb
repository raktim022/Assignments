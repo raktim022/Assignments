{
  "cells": [
    {
      "cell_type": "code",
      "execution_count": null,
      "metadata": {
        "colab": {
          "base_uri": "https://localhost:8080/"
        },
        "id": "LetQjJMUumZw",
        "outputId": "ca17a7c1-7e7c-4961-deee-64f9060ffcdb"
      },
      "outputs": [
        {
          "output_type": "stream",
          "name": "stdout",
          "text": [
            "Mounted at /content/drive\n"
          ]
        }
      ],
      "source": [
        "from google.colab import drive\n",
        "drive.mount(\"/content/drive\",force_remount=True)"
      ]
    },
    {
      "cell_type": "code",
      "execution_count": null,
      "metadata": {
        "colab": {
          "base_uri": "https://localhost:8080/"
        },
        "id": "PONoimlRurqI",
        "outputId": "f08a794d-0d8e-4446-8a4c-f15a8f44682a"
      },
      "outputs": [
        {
          "output_type": "stream",
          "name": "stdout",
          "text": [
            "Looking in indexes: https://pypi.org/simple, https://us-python.pkg.dev/colab-wheels/public/simple/\n",
            "Collecting fasttext-langdetect\n",
            "  Downloading fasttext-langdetect-1.0.5.tar.gz (6.8 kB)\n",
            "  Preparing metadata (setup.py) ... \u001b[?25l\u001b[?25hdone\n",
            "Collecting fasttext>=0.9.1\n",
            "  Downloading fasttext-0.9.2.tar.gz (68 kB)\n",
            "\u001b[2K     \u001b[90m━━━━━━━━━━━━━━━━━━━━━━━━━━━━━━━━━━━━━━━━\u001b[0m \u001b[32m68.8/68.8 KB\u001b[0m \u001b[31m8.7 MB/s\u001b[0m eta \u001b[36m0:00:00\u001b[0m\n",
            "\u001b[?25h  Preparing metadata (setup.py) ... \u001b[?25l\u001b[?25hdone\n",
            "Requirement already satisfied: requests>=2.22.0 in /usr/local/lib/python3.9/dist-packages (from fasttext-langdetect) (2.27.1)\n",
            "Collecting pybind11>=2.2\n",
            "  Using cached pybind11-2.10.4-py3-none-any.whl (222 kB)\n",
            "Requirement already satisfied: setuptools>=0.7.0 in /usr/local/lib/python3.9/dist-packages (from fasttext>=0.9.1->fasttext-langdetect) (67.6.1)\n",
            "Requirement already satisfied: numpy in /usr/local/lib/python3.9/dist-packages (from fasttext>=0.9.1->fasttext-langdetect) (1.22.4)\n",
            "Requirement already satisfied: certifi>=2017.4.17 in /usr/local/lib/python3.9/dist-packages (from requests>=2.22.0->fasttext-langdetect) (2022.12.7)\n",
            "Requirement already satisfied: urllib3<1.27,>=1.21.1 in /usr/local/lib/python3.9/dist-packages (from requests>=2.22.0->fasttext-langdetect) (1.26.15)\n",
            "Requirement already satisfied: charset-normalizer~=2.0.0 in /usr/local/lib/python3.9/dist-packages (from requests>=2.22.0->fasttext-langdetect) (2.0.12)\n",
            "Requirement already satisfied: idna<4,>=2.5 in /usr/local/lib/python3.9/dist-packages (from requests>=2.22.0->fasttext-langdetect) (3.4)\n",
            "Building wheels for collected packages: fasttext-langdetect, fasttext\n",
            "  Building wheel for fasttext-langdetect (setup.py) ... \u001b[?25l\u001b[?25hdone\n",
            "  Created wheel for fasttext-langdetect: filename=fasttext_langdetect-1.0.5-py3-none-any.whl size=7521 sha256=7f0e575237368f6977eb141fa69b4e2082bbb651108bf86ebedc5843552a085b\n",
            "  Stored in directory: /root/.cache/pip/wheels/1b/0b/90/a4681c284d9a0da966cb7b6c378836cd3b0c9f23dc9ec7dfc5\n",
            "  Building wheel for fasttext (setup.py) ... \u001b[?25l\u001b[?25hdone\n",
            "  Created wheel for fasttext: filename=fasttext-0.9.2-cp39-cp39-linux_x86_64.whl size=4395536 sha256=0c0d721a663d55b83558ca39f65d14d1ba07fb5bee437ff35520323001106970\n",
            "  Stored in directory: /root/.cache/pip/wheels/64/57/bc/1741406019061d5664914b070bd3e71f6244648732bc96109e\n",
            "Successfully built fasttext-langdetect fasttext\n",
            "Installing collected packages: pybind11, fasttext, fasttext-langdetect\n",
            "Successfully installed fasttext-0.9.2 fasttext-langdetect-1.0.5 pybind11-2.10.4\n"
          ]
        }
      ],
      "source": [
        "!pip install fasttext-langdetect"
      ]
    },
    {
      "cell_type": "code",
      "execution_count": null,
      "metadata": {
        "colab": {
          "base_uri": "https://localhost:8080/"
        },
        "id": "5w1BQ2t9urtN",
        "outputId": "96dcbcd2-0218-4a43-c85a-9ddb194b4edb"
      },
      "outputs": [
        {
          "output_type": "stream",
          "name": "stderr",
          "text": [
            "[nltk_data] Downloading package punkt to /root/nltk_data...\n",
            "[nltk_data]   Unzipping tokenizers/punkt.zip.\n",
            "[nltk_data] Downloading package stopwords to /root/nltk_data...\n",
            "[nltk_data]   Unzipping corpora/stopwords.zip.\n",
            "[nltk_data] Downloading package wordnet to /root/nltk_data...\n",
            "[nltk_data] Downloading package omw-1.4 to /root/nltk_data...\n"
          ]
        },
        {
          "output_type": "execute_result",
          "data": {
            "text/plain": [
              "True"
            ]
          },
          "metadata": {},
          "execution_count": 3
        }
      ],
      "source": [
        "\n",
        "import pandas as pd\n",
        "import numpy as np\n",
        "import re\n",
        "\n",
        "from ftlangdetect import detect\n",
        "\n",
        "import matplotlib.pyplot as plt\n",
        "import warnings\n",
        "warnings.filterwarnings(\"ignore\")\n",
        "\n",
        "import spacy\n",
        "nlp=spacy.load(\"en_core_web_sm\")\n",
        "\n",
        "import os \n",
        "from nltk import ngrams\n",
        "from collections import Counter\n",
        "import tqdm\n",
        "\n",
        "import nltk \n",
        "from nltk import ngrams\n",
        "from nltk.corpus import stopwords\n",
        "from nltk.stem import WordNetLemmatizer\n",
        "\n",
        "nltk.download(\"punkt\")\n",
        "nltk.download('stopwords')\n",
        "nltk.download('wordnet')\n",
        "nltk.download('omw-1.4')"
      ]
    },
    {
      "cell_type": "code",
      "execution_count": null,
      "metadata": {
        "id": "9dhQaIanurwI"
      },
      "outputs": [],
      "source": [
        "#Using zipfile to extract JSON files from the .zip file\n",
        "import zipfile\n",
        "zip_ref = zipfile.ZipFile(\"/content/drive/My Drive/pdf_json.zip\", 'r')\n",
        "zip_ref.extractall(\"/content/files/\")\n",
        "zip_ref.close()"
      ]
    },
    {
      "cell_type": "code",
      "execution_count": null,
      "metadata": {
        "id": "sKjxgW_wurzQ"
      },
      "outputs": [],
      "source": [
        "#Function to extract the text from the JSON files\n",
        "import json\n",
        "def extract_body_text(filename):\n",
        "  file1 = open(filename)\n",
        "  paper_content = json.load(file1)\n",
        "  abstract = \"\"\n",
        "  if \"abstract\" in paper_content :\n",
        "    for bt in paper_content [\"abstract\"]:\n",
        "      abstract = abstract + bt[\"text\"]\n",
        "  return ( abstract + '\\n').lower()"
      ]
    },
    {
      "cell_type": "code",
      "execution_count": null,
      "metadata": {
        "id": "7eLVCMAvur5_"
      },
      "outputs": [],
      "source": [
        "#Function for performing text preprocessing\n",
        "#Preprocessing includes case folding, removing punctuations and lemmatization\n",
        "def preprocessing(text):\n",
        "  res=\"\"\n",
        "\n",
        "  #Converting corpus to lower case\n",
        "  text=text.lower()\n",
        "\n",
        "  #Removing references\n",
        "  text=re.sub(\"\\[\\d+\\]\",\" \",text)\n",
        "\n",
        "  #Removing punctuations\n",
        "  text=re.sub(\"\"\"\\.|\\,|\\$|-|\\#|\\^|\\(|\\)|\\-|#|@|\\'|\\+|\\\"|\\/|\\;|\\:|\\%|\\=|\\*\"\"\",\" \",text)\n",
        "\n",
        "  #Removing multiple occurences of space with a single space\n",
        "  text=re.sub(\"\\s*\\s\",\" \",text)\n",
        "  \n",
        "  return text\n"
      ]
    },
    {
      "cell_type": "code",
      "execution_count": null,
      "metadata": {
        "colab": {
          "base_uri": "https://localhost:8080/"
        },
        "id": "r063FnXVwAol",
        "outputId": "da4dae3c-f088-46d0-e5a0-38e0d276d612"
      },
      "outputs": [
        {
          "output_type": "stream",
          "name": "stderr",
          "text": [
            "  0%|          | 0/100 [00:00<?, ?it/s]Warning : `load_model` does not return WordVectorModel or SupervisedModel any more, but a `FastText` object which is very similar.\n",
            "100%|██████████| 100/100 [00:01<00:00, 67.35it/s]\n"
          ]
        }
      ],
      "source": [
        "tokens=[]\n",
        "for j in tqdm.tqdm(os.listdir(\"files/pdf_json/\")[:100]):\n",
        "    try:\n",
        "      text=preprocessing(extract_body_text(f'files/pdf_json/{j}'))\n",
        "\n",
        "      #Detecting the language of the text\n",
        "      lang=detect(text,low_memory=False)\n",
        "\n",
        "      if lang[\"lang\"]==\"en\":\n",
        "\n",
        "        words=text.split(\" \")\n",
        "\n",
        "        words=[i for i in words if i!='']\n",
        "\n",
        "        tokens.extend(words)\n",
        "\n",
        "    except UnicodeDecodeError:\n",
        "      pass"
      ]
    },
    {
      "cell_type": "code",
      "source": [
        "len(tokens)"
      ],
      "metadata": {
        "colab": {
          "base_uri": "https://localhost:8080/"
        },
        "id": "Qo3pjydN8wnX",
        "outputId": "b6a5a6d8-a492-4d3a-9b75-b0eedc208cdd"
      },
      "execution_count": null,
      "outputs": [
        {
          "output_type": "execute_result",
          "data": {
            "text/plain": [
              "11738"
            ]
          },
          "metadata": {},
          "execution_count": 9
        }
      ]
    },
    {
      "cell_type": "code",
      "execution_count": null,
      "metadata": {
        "id": "tmp8liwIwAuZ"
      },
      "outputs": [],
      "source": [
        "#Creating sequences of words of length 25, i.e., for every sequence of 25 words, the 26th word is the output at that timestep\n",
        "word_sequences=[]\n",
        "\n",
        "train_len=25 + 1\n",
        "\n",
        "for i in range(train_len,len(tokens)):\n",
        "  w=tokens[i-train_len:i]\n",
        "  word_sequences.append(w)"
      ]
    },
    {
      "cell_type": "markdown",
      "source": [
        "<b>ENCODING THE SENTENCES</b>"
      ],
      "metadata": {
        "id": "5I_egyIwVTC9"
      }
    },
    {
      "cell_type": "code",
      "execution_count": null,
      "metadata": {
        "id": "3mGDWHQA0YQJ"
      },
      "outputs": [],
      "source": [
        "import keras\n",
        "from keras.preprocessing.text import Tokenizer"
      ]
    },
    {
      "cell_type": "code",
      "execution_count": null,
      "metadata": {
        "id": "obb6AW-K0daT"
      },
      "outputs": [],
      "source": [
        "#Using Tensorflow tokenizer object for encoding\n",
        "tokenizer=Tokenizer()"
      ]
    },
    {
      "cell_type": "code",
      "execution_count": null,
      "metadata": {
        "id": "9mjvxYaI0fMJ"
      },
      "outputs": [],
      "source": [
        "#Fitting the object on the word sequences\n",
        "tokenizer.fit_on_texts(word_sequences)"
      ]
    },
    {
      "cell_type": "code",
      "execution_count": null,
      "metadata": {
        "id": "vv18M0go0hMA"
      },
      "outputs": [],
      "source": [
        "sequences=tokenizer.texts_to_sequences(word_sequences)"
      ]
    },
    {
      "cell_type": "code",
      "execution_count": null,
      "metadata": {
        "id": "AczI0H_p1Fva",
        "colab": {
          "base_uri": "https://localhost:8080/"
        },
        "outputId": "ad6e5d83-e997-448d-e8a4-448b4bbfc621"
      },
      "outputs": [
        {
          "output_type": "execute_result",
          "data": {
            "text/plain": [
              "array([[ 674,   13, 3347, ...,    2,  672,   44],\n",
              "       [  13, 3347,    5, ...,  672,   44,   25],\n",
              "       [3347,    5,    1, ...,   44,   25,  150],\n",
              "       ...,\n",
              "       [3336,   25, 3337, ...,    1,  495,    2],\n",
              "       [  25, 3337, 1556, ...,  495,    2, 3348],\n",
              "       [3337, 1556,    1, ...,    2, 3348, 3349]])"
            ]
          },
          "metadata": {},
          "execution_count": 13
        }
      ],
      "source": [
        "#Making a matrix of the encoded word sequences\n",
        "sequences=np.array(sequences)\n",
        "sequences"
      ]
    },
    {
      "cell_type": "code",
      "execution_count": null,
      "metadata": {
        "id": "n6iEJNbv0jI-"
      },
      "outputs": [],
      "source": [
        "vocab_size=len(tokenizer.word_counts)"
      ]
    },
    {
      "cell_type": "code",
      "source": [
        "vocab_size"
      ],
      "metadata": {
        "colab": {
          "base_uri": "https://localhost:8080/"
        },
        "id": "ViAutDN_hxG2",
        "outputId": "aa147305-bb02-4c6d-854e-eae4cf11f350"
      },
      "execution_count": null,
      "outputs": [
        {
          "output_type": "execute_result",
          "data": {
            "text/plain": [
              "3079"
            ]
          },
          "metadata": {},
          "execution_count": 18
        }
      ]
    },
    {
      "cell_type": "code",
      "execution_count": null,
      "metadata": {
        "id": "XlQx1lyW0pZE"
      },
      "outputs": [],
      "source": [
        "#importing the layers to build an RNN\n",
        "import keras\n",
        "from keras.models import Sequential\n",
        "from keras.layers import Embedding,LSTM,Dense\n",
        "     "
      ]
    },
    {
      "cell_type": "markdown",
      "source": [
        "<h4>Changed number of neurons to 150 to improve accuracy.</h4>"
      ],
      "metadata": {
        "id": "3hqs748Ju2Vl"
      }
    },
    {
      "cell_type": "code",
      "execution_count": null,
      "metadata": {
        "id": "yLApAS9J0r96"
      },
      "outputs": [],
      "source": [
        "#creating the RNN with 2 LSTM layers\n",
        "\n",
        "def create_model(vocabulary_size, seq_len):\n",
        "    model = Sequential()\n",
        "    model.add(Embedding(vocabulary_size, 25, input_length=seq_len))\n",
        "    model.add(LSTM(150, return_sequences=True))\n",
        "    model.add(LSTM(150))\n",
        "    model.add(Dense(150, activation='relu'))\n",
        "\n",
        "    model.add(Dense(vocabulary_size, activation='softmax'))\n",
        "    \n",
        "    model.compile(loss='categorical_crossentropy', optimizer='adam', metrics=['accuracy'])\n",
        "   \n",
        "    model.summary()\n",
        "    \n",
        "    return model"
      ]
    },
    {
      "cell_type": "code",
      "execution_count": null,
      "metadata": {
        "id": "VdpnU4Gt0zey"
      },
      "outputs": [],
      "source": [
        "#Splitting the matrix into input sequences and labels\n",
        "from tensorflow.keras.utils import to_categorical\n",
        "\n",
        "X=sequences[:,:-1]\n",
        "y=sequences[:,-1]\n",
        "y=to_categorical(y,num_classes=vocab_size+1)"
      ]
    },
    {
      "cell_type": "code",
      "source": [
        "X.shape,y.shape"
      ],
      "metadata": {
        "colab": {
          "base_uri": "https://localhost:8080/"
        },
        "id": "41W768LL6xAp",
        "outputId": "68693aad-e724-4401-bd4c-a8d3b5baff6f"
      },
      "execution_count": null,
      "outputs": [
        {
          "output_type": "execute_result",
          "data": {
            "text/plain": [
              "((13075, 25), (13075, 3350))"
            ]
          },
          "metadata": {},
          "execution_count": 17
        }
      ]
    },
    {
      "cell_type": "code",
      "execution_count": null,
      "metadata": {
        "id": "SHtlgyHD02D7"
      },
      "outputs": [],
      "source": [
        "seq_len=X.shape[1]"
      ]
    },
    {
      "cell_type": "code",
      "execution_count": null,
      "metadata": {
        "id": "c45HkOKO04Jl",
        "colab": {
          "base_uri": "https://localhost:8080/"
        },
        "outputId": "513d205a-30a7-44f6-a5d0-d55592f60bb6"
      },
      "outputs": [
        {
          "output_type": "stream",
          "name": "stdout",
          "text": [
            "Model: \"sequential\"\n",
            "_________________________________________________________________\n",
            " Layer (type)                Output Shape              Param #   \n",
            "=================================================================\n",
            " embedding (Embedding)       (None, 25, 25)            77000     \n",
            "                                                                 \n",
            " lstm (LSTM)                 (None, 25, 150)           105600    \n",
            "                                                                 \n",
            " lstm_1 (LSTM)               (None, 150)               180600    \n",
            "                                                                 \n",
            " dense (Dense)               (None, 150)               22650     \n",
            "                                                                 \n",
            " dense_1 (Dense)             (None, 3080)              465080    \n",
            "                                                                 \n",
            "=================================================================\n",
            "Total params: 850,930\n",
            "Trainable params: 850,930\n",
            "Non-trainable params: 0\n",
            "_________________________________________________________________\n"
          ]
        }
      ],
      "source": [
        "model=create_model(vocab_size+1,seq_len)"
      ]
    },
    {
      "cell_type": "markdown",
      "source": [
        "<h4>Changed the number of epochs from 150 to 200 to increase accuracy from 76% to 98%</h4>"
      ],
      "metadata": {
        "id": "Bc4pu8-guk83"
      }
    },
    {
      "cell_type": "code",
      "execution_count": null,
      "metadata": {
        "id": "nQ9orwsb05zM",
        "colab": {
          "base_uri": "https://localhost:8080/"
        },
        "outputId": "c47ffbe6-a3f6-4ad5-d247-17ecbd5120a6"
      },
      "outputs": [
        {
          "output_type": "stream",
          "name": "stdout",
          "text": [
            "Epoch 1/200\n",
            "92/92 [==============================] - 33s 210ms/step - loss: 7.2734 - accuracy: 0.0399\n",
            "Epoch 2/200\n",
            "92/92 [==============================] - 9s 94ms/step - loss: 6.8722 - accuracy: 0.0450\n",
            "Epoch 3/200\n",
            "92/92 [==============================] - 7s 69ms/step - loss: 6.8171 - accuracy: 0.0465\n",
            "Epoch 4/200\n",
            "92/92 [==============================] - 2s 23ms/step - loss: 6.6939 - accuracy: 0.0464\n",
            "Epoch 5/200\n",
            "92/92 [==============================] - 2s 26ms/step - loss: 6.6082 - accuracy: 0.0565\n",
            "Epoch 6/200\n",
            "92/92 [==============================] - 2s 25ms/step - loss: 6.5131 - accuracy: 0.0614\n",
            "Epoch 7/200\n",
            "92/92 [==============================] - 5s 50ms/step - loss: 6.4052 - accuracy: 0.0630\n",
            "Epoch 8/200\n",
            "92/92 [==============================] - 4s 41ms/step - loss: 6.2978 - accuracy: 0.0657\n",
            "Epoch 9/200\n",
            "92/92 [==============================] - 2s 19ms/step - loss: 6.1940 - accuracy: 0.0692\n",
            "Epoch 10/200\n",
            "92/92 [==============================] - 3s 28ms/step - loss: 6.0991 - accuracy: 0.0692\n",
            "Epoch 11/200\n",
            "92/92 [==============================] - 2s 20ms/step - loss: 6.0146 - accuracy: 0.0716\n",
            "Epoch 12/200\n",
            "92/92 [==============================] - 3s 33ms/step - loss: 5.9410 - accuracy: 0.0721\n",
            "Epoch 13/200\n",
            "92/92 [==============================] - 3s 37ms/step - loss: 5.8634 - accuracy: 0.0727\n",
            "Epoch 14/200\n",
            "92/92 [==============================] - 1s 11ms/step - loss: 5.7866 - accuracy: 0.0745\n",
            "Epoch 15/200\n",
            "92/92 [==============================] - 2s 22ms/step - loss: 5.7127 - accuracy: 0.0764\n",
            "Epoch 16/200\n",
            "92/92 [==============================] - 1s 15ms/step - loss: 5.6241 - accuracy: 0.0785\n",
            "Epoch 17/200\n",
            "92/92 [==============================] - 1s 16ms/step - loss: 5.5393 - accuracy: 0.0826\n",
            "Epoch 18/200\n",
            "92/92 [==============================] - 1s 14ms/step - loss: 5.4609 - accuracy: 0.0857\n",
            "Epoch 19/200\n",
            "92/92 [==============================] - 1s 13ms/step - loss: 5.3769 - accuracy: 0.0917\n",
            "Epoch 20/200\n",
            "92/92 [==============================] - 2s 20ms/step - loss: 5.3066 - accuracy: 0.0911\n",
            "Epoch 21/200\n",
            "92/92 [==============================] - 2s 19ms/step - loss: 5.2294 - accuracy: 0.0977\n",
            "Epoch 22/200\n",
            "92/92 [==============================] - 2s 19ms/step - loss: 5.1501 - accuracy: 0.0999\n",
            "Epoch 23/200\n",
            "92/92 [==============================] - 2s 22ms/step - loss: 5.0746 - accuracy: 0.1021\n",
            "Epoch 24/200\n",
            "92/92 [==============================] - 1s 14ms/step - loss: 5.0034 - accuracy: 0.1051\n",
            "Epoch 25/200\n",
            "92/92 [==============================] - 1s 12ms/step - loss: 4.9328 - accuracy: 0.1081\n",
            "Epoch 26/200\n",
            "92/92 [==============================] - 1s 16ms/step - loss: 4.8512 - accuracy: 0.1106\n",
            "Epoch 27/200\n",
            "92/92 [==============================] - 1s 11ms/step - loss: 4.7795 - accuracy: 0.1141\n",
            "Epoch 28/200\n",
            "92/92 [==============================] - 1s 14ms/step - loss: 4.7118 - accuracy: 0.1179\n",
            "Epoch 29/200\n",
            "92/92 [==============================] - 2s 25ms/step - loss: 4.6425 - accuracy: 0.1198\n",
            "Epoch 30/200\n",
            "92/92 [==============================] - 3s 29ms/step - loss: 4.5766 - accuracy: 0.1259\n",
            "Epoch 31/200\n",
            "92/92 [==============================] - 2s 26ms/step - loss: 4.5111 - accuracy: 0.1291\n",
            "Epoch 32/200\n",
            "92/92 [==============================] - 2s 23ms/step - loss: 4.4438 - accuracy: 0.1335\n",
            "Epoch 33/200\n",
            "92/92 [==============================] - 1s 9ms/step - loss: 4.3725 - accuracy: 0.1337\n",
            "Epoch 34/200\n",
            "92/92 [==============================] - 1s 11ms/step - loss: 4.3054 - accuracy: 0.1404\n",
            "Epoch 35/200\n",
            "92/92 [==============================] - 1s 12ms/step - loss: 4.2520 - accuracy: 0.1428\n",
            "Epoch 36/200\n",
            "92/92 [==============================] - 1s 12ms/step - loss: 4.1878 - accuracy: 0.1444\n",
            "Epoch 37/200\n",
            "92/92 [==============================] - 1s 12ms/step - loss: 4.1280 - accuracy: 0.1508\n",
            "Epoch 38/200\n",
            "92/92 [==============================] - 1s 12ms/step - loss: 4.1038 - accuracy: 0.1526\n",
            "Epoch 39/200\n",
            "92/92 [==============================] - 1s 10ms/step - loss: 4.0275 - accuracy: 0.1590\n",
            "Epoch 40/200\n",
            "92/92 [==============================] - 1s 15ms/step - loss: 3.9623 - accuracy: 0.1663\n",
            "Epoch 41/200\n",
            "92/92 [==============================] - 1s 12ms/step - loss: 3.9023 - accuracy: 0.1705\n",
            "Epoch 42/200\n",
            "92/92 [==============================] - 1s 14ms/step - loss: 3.8542 - accuracy: 0.1771\n",
            "Epoch 43/200\n",
            "92/92 [==============================] - 1s 12ms/step - loss: 3.7932 - accuracy: 0.1817\n",
            "Epoch 44/200\n",
            "92/92 [==============================] - 1s 10ms/step - loss: 3.7399 - accuracy: 0.1866\n",
            "Epoch 45/200\n",
            "92/92 [==============================] - 1s 10ms/step - loss: 3.6991 - accuracy: 0.1902\n",
            "Epoch 46/200\n",
            "92/92 [==============================] - 1s 9ms/step - loss: 3.6377 - accuracy: 0.2047\n",
            "Epoch 47/200\n",
            "92/92 [==============================] - 1s 11ms/step - loss: 3.5832 - accuracy: 0.2064\n",
            "Epoch 48/200\n",
            "92/92 [==============================] - 1s 11ms/step - loss: 3.5208 - accuracy: 0.2186\n",
            "Epoch 49/200\n",
            "92/92 [==============================] - 1s 12ms/step - loss: 3.4707 - accuracy: 0.2253\n",
            "Epoch 50/200\n",
            "92/92 [==============================] - 1s 10ms/step - loss: 3.4209 - accuracy: 0.2323\n",
            "Epoch 51/200\n",
            "92/92 [==============================] - 1s 11ms/step - loss: 3.3754 - accuracy: 0.2431\n",
            "Epoch 52/200\n",
            "92/92 [==============================] - 1s 12ms/step - loss: 3.3351 - accuracy: 0.2448\n",
            "Epoch 53/200\n",
            "92/92 [==============================] - 1s 13ms/step - loss: 3.2714 - accuracy: 0.2529\n",
            "Epoch 54/200\n",
            "92/92 [==============================] - 1s 11ms/step - loss: 3.2328 - accuracy: 0.2579\n",
            "Epoch 55/200\n",
            "92/92 [==============================] - 1s 14ms/step - loss: 3.1860 - accuracy: 0.2687\n",
            "Epoch 56/200\n",
            "92/92 [==============================] - 1s 15ms/step - loss: 3.1404 - accuracy: 0.2776\n",
            "Epoch 57/200\n",
            "92/92 [==============================] - 1s 9ms/step - loss: 3.0946 - accuracy: 0.2843\n",
            "Epoch 58/200\n",
            "92/92 [==============================] - 1s 9ms/step - loss: 3.0520 - accuracy: 0.2912\n",
            "Epoch 59/200\n",
            "92/92 [==============================] - 1s 12ms/step - loss: 3.0080 - accuracy: 0.2994\n",
            "Epoch 60/200\n",
            "92/92 [==============================] - 1s 16ms/step - loss: 2.9708 - accuracy: 0.3046\n",
            "Epoch 61/200\n",
            "92/92 [==============================] - 1s 12ms/step - loss: 2.9348 - accuracy: 0.3108\n",
            "Epoch 62/200\n",
            "92/92 [==============================] - 1s 9ms/step - loss: 2.8964 - accuracy: 0.3166\n",
            "Epoch 63/200\n",
            "92/92 [==============================] - 1s 11ms/step - loss: 2.8595 - accuracy: 0.3193\n",
            "Epoch 64/200\n",
            "92/92 [==============================] - 1s 11ms/step - loss: 2.8181 - accuracy: 0.3373\n",
            "Epoch 65/200\n",
            "92/92 [==============================] - 1s 11ms/step - loss: 2.7830 - accuracy: 0.3398\n",
            "Epoch 66/200\n",
            "92/92 [==============================] - 1s 13ms/step - loss: 2.7464 - accuracy: 0.3416\n",
            "Epoch 67/200\n",
            "92/92 [==============================] - 1s 14ms/step - loss: 2.7280 - accuracy: 0.3496\n",
            "Epoch 68/200\n",
            "92/92 [==============================] - 1s 14ms/step - loss: 2.7807 - accuracy: 0.3505\n",
            "Epoch 69/200\n",
            "92/92 [==============================] - 1s 12ms/step - loss: 2.6477 - accuracy: 0.3624\n",
            "Epoch 70/200\n",
            "92/92 [==============================] - 1s 9ms/step - loss: 2.6082 - accuracy: 0.3762\n",
            "Epoch 71/200\n",
            "92/92 [==============================] - 1s 9ms/step - loss: 2.5773 - accuracy: 0.3799\n",
            "Epoch 72/200\n",
            "92/92 [==============================] - 1s 15ms/step - loss: 2.5391 - accuracy: 0.3902\n",
            "Epoch 73/200\n",
            "92/92 [==============================] - 1s 11ms/step - loss: 2.5146 - accuracy: 0.3922\n",
            "Epoch 74/200\n",
            "92/92 [==============================] - 1s 13ms/step - loss: 2.9201 - accuracy: 0.3628\n",
            "Epoch 75/200\n",
            "92/92 [==============================] - 1s 11ms/step - loss: 3.9697 - accuracy: 0.2599\n",
            "Epoch 76/200\n",
            "92/92 [==============================] - 1s 11ms/step - loss: 2.8601 - accuracy: 0.3492\n",
            "Epoch 77/200\n",
            "92/92 [==============================] - 1s 9ms/step - loss: 2.7199 - accuracy: 0.3654\n",
            "Epoch 78/200\n",
            "92/92 [==============================] - 1s 9ms/step - loss: 3.1102 - accuracy: 0.3035\n",
            "Epoch 79/200\n",
            "92/92 [==============================] - 1s 12ms/step - loss: 2.8867 - accuracy: 0.3361\n",
            "Epoch 80/200\n",
            "92/92 [==============================] - 2s 20ms/step - loss: 2.7426 - accuracy: 0.3577\n",
            "Epoch 81/200\n",
            "92/92 [==============================] - 1s 12ms/step - loss: 2.6359 - accuracy: 0.3729\n",
            "Epoch 82/200\n",
            "92/92 [==============================] - 1s 10ms/step - loss: 2.5548 - accuracy: 0.3874\n",
            "Epoch 83/200\n",
            "92/92 [==============================] - 1s 9ms/step - loss: 2.4904 - accuracy: 0.4009\n",
            "Epoch 84/200\n",
            "92/92 [==============================] - 1s 9ms/step - loss: 2.4490 - accuracy: 0.4150\n",
            "Epoch 85/200\n",
            "92/92 [==============================] - 1s 11ms/step - loss: 2.3738 - accuracy: 0.4277\n",
            "Epoch 86/200\n",
            "92/92 [==============================] - 1s 9ms/step - loss: 2.3308 - accuracy: 0.4328\n",
            "Epoch 87/200\n",
            "92/92 [==============================] - 1s 11ms/step - loss: 2.2701 - accuracy: 0.4453\n",
            "Epoch 88/200\n",
            "92/92 [==============================] - 1s 9ms/step - loss: 2.2221 - accuracy: 0.4519\n",
            "Epoch 89/200\n",
            "92/92 [==============================] - 1s 11ms/step - loss: 2.1812 - accuracy: 0.4610\n",
            "Epoch 90/200\n",
            "92/92 [==============================] - 1s 9ms/step - loss: 2.4414 - accuracy: 0.4110\n",
            "Epoch 91/200\n",
            "92/92 [==============================] - 1s 11ms/step - loss: 2.3802 - accuracy: 0.4225\n",
            "Epoch 92/200\n",
            "92/92 [==============================] - 1s 10ms/step - loss: 2.6965 - accuracy: 0.3440\n",
            "Epoch 93/200\n",
            "92/92 [==============================] - 1s 12ms/step - loss: 2.3362 - accuracy: 0.4247\n",
            "Epoch 94/200\n",
            "92/92 [==============================] - 2s 26ms/step - loss: 2.2097 - accuracy: 0.4539\n",
            "Epoch 95/200\n",
            "92/92 [==============================] - 1s 16ms/step - loss: 2.1343 - accuracy: 0.4734\n",
            "Epoch 96/200\n",
            "92/92 [==============================] - 1s 14ms/step - loss: 2.0701 - accuracy: 0.4868\n",
            "Epoch 97/200\n",
            "92/92 [==============================] - 1s 15ms/step - loss: 2.0109 - accuracy: 0.5044\n",
            "Epoch 98/200\n",
            "92/92 [==============================] - 1s 14ms/step - loss: 1.9647 - accuracy: 0.5109\n",
            "Epoch 99/200\n",
            "92/92 [==============================] - 1s 11ms/step - loss: 1.9147 - accuracy: 0.5225\n",
            "Epoch 100/200\n",
            "92/92 [==============================] - 1s 9ms/step - loss: 1.8566 - accuracy: 0.5375\n",
            "Epoch 101/200\n",
            "92/92 [==============================] - 1s 9ms/step - loss: 1.7984 - accuracy: 0.5511\n",
            "Epoch 102/200\n",
            "92/92 [==============================] - 1s 9ms/step - loss: 1.7529 - accuracy: 0.5628\n",
            "Epoch 103/200\n",
            "92/92 [==============================] - 1s 9ms/step - loss: 1.7911 - accuracy: 0.5476\n",
            "Epoch 104/200\n",
            "92/92 [==============================] - 1s 11ms/step - loss: 1.7280 - accuracy: 0.5570\n",
            "Epoch 105/200\n",
            "92/92 [==============================] - 1s 11ms/step - loss: 1.6659 - accuracy: 0.5760\n",
            "Epoch 106/200\n",
            "92/92 [==============================] - 1s 9ms/step - loss: 1.6165 - accuracy: 0.5876\n",
            "Epoch 107/200\n",
            "92/92 [==============================] - 1s 9ms/step - loss: 1.5657 - accuracy: 0.6005\n",
            "Epoch 108/200\n",
            "92/92 [==============================] - 1s 11ms/step - loss: 1.5276 - accuracy: 0.6095\n",
            "Epoch 109/200\n",
            "92/92 [==============================] - 1s 15ms/step - loss: 1.4826 - accuracy: 0.6225\n",
            "Epoch 110/200\n",
            "92/92 [==============================] - 1s 12ms/step - loss: 1.4385 - accuracy: 0.6301\n",
            "Epoch 111/200\n",
            "92/92 [==============================] - 1s 11ms/step - loss: 1.4167 - accuracy: 0.6328\n",
            "Epoch 112/200\n",
            "92/92 [==============================] - 1s 11ms/step - loss: 1.3940 - accuracy: 0.6430\n",
            "Epoch 113/200\n",
            "92/92 [==============================] - 1s 12ms/step - loss: 1.4615 - accuracy: 0.6282\n",
            "Epoch 114/200\n",
            "92/92 [==============================] - 1s 14ms/step - loss: 1.3995 - accuracy: 0.6393\n",
            "Epoch 115/200\n",
            "92/92 [==============================] - 1s 11ms/step - loss: 1.3355 - accuracy: 0.6592\n",
            "Epoch 116/200\n",
            "92/92 [==============================] - 1s 12ms/step - loss: 1.2844 - accuracy: 0.6674\n",
            "Epoch 117/200\n",
            "92/92 [==============================] - 1s 9ms/step - loss: 1.2371 - accuracy: 0.6860\n",
            "Epoch 118/200\n",
            "92/92 [==============================] - 1s 11ms/step - loss: 1.1980 - accuracy: 0.6930\n",
            "Epoch 119/200\n",
            "92/92 [==============================] - 1s 9ms/step - loss: 1.1644 - accuracy: 0.6995\n",
            "Epoch 120/200\n",
            "92/92 [==============================] - 1s 13ms/step - loss: 1.1332 - accuracy: 0.7095\n",
            "Epoch 121/200\n",
            "92/92 [==============================] - 1s 9ms/step - loss: 1.0889 - accuracy: 0.7195\n",
            "Epoch 122/200\n",
            "92/92 [==============================] - 1s 10ms/step - loss: 1.3317 - accuracy: 0.6644\n",
            "Epoch 123/200\n",
            "92/92 [==============================] - 1s 12ms/step - loss: 1.3227 - accuracy: 0.6627\n",
            "Epoch 124/200\n",
            "92/92 [==============================] - 1s 12ms/step - loss: 1.2203 - accuracy: 0.6919\n",
            "Epoch 125/200\n",
            "92/92 [==============================] - 1s 14ms/step - loss: 1.1657 - accuracy: 0.7036\n",
            "Epoch 126/200\n",
            "92/92 [==============================] - 1s 9ms/step - loss: 1.0915 - accuracy: 0.7205\n",
            "Epoch 127/200\n",
            "92/92 [==============================] - 1s 9ms/step - loss: 1.0381 - accuracy: 0.7378\n",
            "Epoch 128/200\n",
            "92/92 [==============================] - 1s 11ms/step - loss: 0.9976 - accuracy: 0.7505\n",
            "Epoch 129/200\n",
            "92/92 [==============================] - 1s 9ms/step - loss: 0.9598 - accuracy: 0.7567\n",
            "Epoch 130/200\n",
            "92/92 [==============================] - 1s 10ms/step - loss: 0.9221 - accuracy: 0.7684\n",
            "Epoch 131/200\n",
            "92/92 [==============================] - 1s 9ms/step - loss: 0.8815 - accuracy: 0.7787\n",
            "Epoch 132/200\n",
            "92/92 [==============================] - 1s 9ms/step - loss: 0.8513 - accuracy: 0.7905\n",
            "Epoch 133/200\n",
            "92/92 [==============================] - 1s 11ms/step - loss: 0.8194 - accuracy: 0.7987\n",
            "Epoch 134/200\n",
            "92/92 [==============================] - 1s 11ms/step - loss: 0.7916 - accuracy: 0.8040\n",
            "Epoch 135/200\n",
            "92/92 [==============================] - 1s 10ms/step - loss: 0.7765 - accuracy: 0.8083\n",
            "Epoch 136/200\n",
            "92/92 [==============================] - 1s 9ms/step - loss: 0.7652 - accuracy: 0.8110\n",
            "Epoch 137/200\n",
            "92/92 [==============================] - 1s 12ms/step - loss: 0.7295 - accuracy: 0.8207\n",
            "Epoch 138/200\n",
            "92/92 [==============================] - 1s 12ms/step - loss: 0.6902 - accuracy: 0.8342\n",
            "Epoch 139/200\n",
            "92/92 [==============================] - 1s 12ms/step - loss: 0.6681 - accuracy: 0.8379\n",
            "Epoch 140/200\n",
            "92/92 [==============================] - 1s 11ms/step - loss: 0.6427 - accuracy: 0.8455\n",
            "Epoch 141/200\n",
            "92/92 [==============================] - 1s 11ms/step - loss: 0.6277 - accuracy: 0.8502\n",
            "Epoch 142/200\n",
            "92/92 [==============================] - 1s 10ms/step - loss: 0.6052 - accuracy: 0.8541\n",
            "Epoch 143/200\n",
            "92/92 [==============================] - 1s 14ms/step - loss: 0.5810 - accuracy: 0.8632\n",
            "Epoch 144/200\n",
            "92/92 [==============================] - 1s 11ms/step - loss: 0.5554 - accuracy: 0.8702\n",
            "Epoch 145/200\n",
            "92/92 [==============================] - 1s 9ms/step - loss: 0.5385 - accuracy: 0.8749\n",
            "Epoch 146/200\n",
            "92/92 [==============================] - 1s 9ms/step - loss: 0.5246 - accuracy: 0.8793\n",
            "Epoch 147/200\n",
            "92/92 [==============================] - 1s 9ms/step - loss: 0.5060 - accuracy: 0.8831\n",
            "Epoch 148/200\n",
            "92/92 [==============================] - 1s 11ms/step - loss: 0.4974 - accuracy: 0.8851\n",
            "Epoch 149/200\n",
            "92/92 [==============================] - 1s 9ms/step - loss: 0.4803 - accuracy: 0.8908\n",
            "Epoch 150/200\n",
            "92/92 [==============================] - 1s 9ms/step - loss: 0.4819 - accuracy: 0.8900\n",
            "Epoch 151/200\n",
            "92/92 [==============================] - 1s 12ms/step - loss: 0.4657 - accuracy: 0.8935\n",
            "Epoch 152/200\n",
            "92/92 [==============================] - 1s 12ms/step - loss: 0.4505 - accuracy: 0.8979\n",
            "Epoch 153/200\n",
            "92/92 [==============================] - 1s 14ms/step - loss: 0.4355 - accuracy: 0.9012\n",
            "Epoch 154/200\n",
            "92/92 [==============================] - 1s 10ms/step - loss: 0.6349 - accuracy: 0.8533\n",
            "Epoch 155/200\n",
            "92/92 [==============================] - 1s 9ms/step - loss: 0.7712 - accuracy: 0.8010\n",
            "Epoch 156/200\n",
            "92/92 [==============================] - 1s 9ms/step - loss: 0.6607 - accuracy: 0.8284\n",
            "Epoch 157/200\n",
            "92/92 [==============================] - 1s 9ms/step - loss: 0.5357 - accuracy: 0.8645\n",
            "Epoch 158/200\n",
            "92/92 [==============================] - 1s 9ms/step - loss: 0.4879 - accuracy: 0.8822\n",
            "Epoch 159/200\n",
            "92/92 [==============================] - 1s 9ms/step - loss: 0.4714 - accuracy: 0.8902\n",
            "Epoch 160/200\n",
            "92/92 [==============================] - 1s 9ms/step - loss: 0.4843 - accuracy: 0.8853\n",
            "Epoch 161/200\n",
            "92/92 [==============================] - 1s 9ms/step - loss: 0.4418 - accuracy: 0.8975\n",
            "Epoch 162/200\n",
            "92/92 [==============================] - 1s 11ms/step - loss: 0.4192 - accuracy: 0.9027\n",
            "Epoch 163/200\n",
            "92/92 [==============================] - 1s 11ms/step - loss: 0.3861 - accuracy: 0.9124\n",
            "Epoch 164/200\n",
            "92/92 [==============================] - 1s 14ms/step - loss: 0.3649 - accuracy: 0.9168\n",
            "Epoch 165/200\n",
            "92/92 [==============================] - 1s 14ms/step - loss: 0.3406 - accuracy: 0.9249\n",
            "Epoch 166/200\n",
            "92/92 [==============================] - 1s 12ms/step - loss: 0.3200 - accuracy: 0.9320\n",
            "Epoch 167/200\n",
            "92/92 [==============================] - 1s 11ms/step - loss: 0.3072 - accuracy: 0.9353\n",
            "Epoch 168/200\n",
            "92/92 [==============================] - 2s 21ms/step - loss: 0.3060 - accuracy: 0.9375\n",
            "Epoch 169/200\n",
            "92/92 [==============================] - 1s 16ms/step - loss: 0.2927 - accuracy: 0.9390\n",
            "Epoch 170/200\n",
            "92/92 [==============================] - 1s 9ms/step - loss: 0.2887 - accuracy: 0.9390\n",
            "Epoch 171/200\n",
            "92/92 [==============================] - 1s 10ms/step - loss: 0.2942 - accuracy: 0.9372\n",
            "Epoch 172/200\n",
            "92/92 [==============================] - 1s 9ms/step - loss: 0.2838 - accuracy: 0.9395\n",
            "Epoch 173/200\n",
            "92/92 [==============================] - 1s 9ms/step - loss: 0.2720 - accuracy: 0.9449\n",
            "Epoch 174/200\n",
            "92/92 [==============================] - 1s 9ms/step - loss: 0.2746 - accuracy: 0.9422\n",
            "Epoch 175/200\n",
            "92/92 [==============================] - 1s 9ms/step - loss: 0.2701 - accuracy: 0.9423\n",
            "Epoch 176/200\n",
            "92/92 [==============================] - 1s 9ms/step - loss: 0.2608 - accuracy: 0.9452\n",
            "Epoch 177/200\n",
            "92/92 [==============================] - 1s 9ms/step - loss: 0.2489 - accuracy: 0.9485\n",
            "Epoch 178/200\n",
            "92/92 [==============================] - 1s 12ms/step - loss: 0.2405 - accuracy: 0.9509\n",
            "Epoch 179/200\n",
            "92/92 [==============================] - 1s 14ms/step - loss: 0.2216 - accuracy: 0.9577\n",
            "Epoch 180/200\n",
            "92/92 [==============================] - 1s 14ms/step - loss: 0.2348 - accuracy: 0.9518\n",
            "Epoch 181/200\n",
            "92/92 [==============================] - 1s 11ms/step - loss: 0.3919 - accuracy: 0.9065\n",
            "Epoch 182/200\n",
            "92/92 [==============================] - 1s 10ms/step - loss: 0.5939 - accuracy: 0.8485\n",
            "Epoch 183/200\n",
            "92/92 [==============================] - 1s 9ms/step - loss: 0.8191 - accuracy: 0.8023\n",
            "Epoch 184/200\n",
            "92/92 [==============================] - 1s 9ms/step - loss: 0.5417 - accuracy: 0.8723\n",
            "Epoch 185/200\n",
            "92/92 [==============================] - 1s 11ms/step - loss: 0.3508 - accuracy: 0.9267\n",
            "Epoch 186/200\n",
            "92/92 [==============================] - 1s 11ms/step - loss: 0.2959 - accuracy: 0.9424\n",
            "Epoch 187/200\n",
            "92/92 [==============================] - 1s 9ms/step - loss: 0.5501 - accuracy: 0.9002\n",
            "Epoch 188/200\n",
            "92/92 [==============================] - 1s 9ms/step - loss: 0.8397 - accuracy: 0.8350\n",
            "Epoch 189/200\n",
            "92/92 [==============================] - 1s 9ms/step - loss: 0.8021 - accuracy: 0.8168\n",
            "Epoch 190/200\n",
            "92/92 [==============================] - 1s 9ms/step - loss: 0.5508 - accuracy: 0.8610\n",
            "Epoch 191/200\n",
            "92/92 [==============================] - 1s 9ms/step - loss: 0.3671 - accuracy: 0.9081\n",
            "Epoch 192/200\n",
            "92/92 [==============================] - 1s 9ms/step - loss: 0.2285 - accuracy: 0.9504\n",
            "Epoch 193/200\n",
            "92/92 [==============================] - 1s 9ms/step - loss: 0.1733 - accuracy: 0.9696\n",
            "Epoch 194/200\n",
            "92/92 [==============================] - 1s 14ms/step - loss: 0.1626 - accuracy: 0.9723\n",
            "Epoch 195/200\n",
            "92/92 [==============================] - 1s 11ms/step - loss: 0.1333 - accuracy: 0.9788\n",
            "Epoch 196/200\n",
            "92/92 [==============================] - 1s 11ms/step - loss: 0.1173 - accuracy: 0.9857\n",
            "Epoch 197/200\n",
            "92/92 [==============================] - 1s 11ms/step - loss: 0.1235 - accuracy: 0.9834\n",
            "Epoch 198/200\n",
            "92/92 [==============================] - 1s 9ms/step - loss: 0.1075 - accuracy: 0.9873\n",
            "Epoch 199/200\n",
            "92/92 [==============================] - 1s 9ms/step - loss: 0.0992 - accuracy: 0.9886\n",
            "Epoch 200/200\n",
            "92/92 [==============================] - 1s 9ms/step - loss: 0.0924 - accuracy: 0.9879\n"
          ]
        }
      ],
      "source": [
        "history=model.fit(X, y, batch_size=128, epochs=200,verbose=1)"
      ]
    },
    {
      "cell_type": "code",
      "source": [
        "import matplotlib.pyplot as plt\n",
        "plt.plot(history.history[\"loss\"],label=\"Loss\")\n",
        "plt.legend()\n",
        "plt.show()"
      ],
      "metadata": {
        "id": "KZo8BF7I9inK",
        "colab": {
          "base_uri": "https://localhost:8080/",
          "height": 265
        },
        "outputId": "03da5429-429b-416d-bca8-ea6319920778"
      },
      "execution_count": null,
      "outputs": [
        {
          "output_type": "display_data",
          "data": {
            "text/plain": [
              "<Figure size 432x288 with 1 Axes>"
            ],
            "image/png": "[encoded data removed]"
          },
          "metadata": {
            "needs_background": "light"
          }
        }
      ]
    },
    {
      "cell_type": "code",
      "source": [
        "plt.plot(history.history[\"accuracy\"],label=\"Accuracy\")\n",
        "plt.legend()\n",
        "plt.show()"
      ],
      "metadata": {
        "colab": {
          "base_uri": "https://localhost:8080/",
          "height": 265
        },
        "id": "dcz3-2HtKPY5",
        "outputId": "a5164341-48e6-4fe8-e369-4ef4ba26a997"
      },
      "execution_count": null,
      "outputs": [
        {
          "output_type": "display_data",
          "data": {
            "text/plain": [
              "<Figure size 432x288 with 1 Axes>"
            ],
            "image/png": "[encoded data removed]"
          },
          "metadata": {
            "needs_background": "light"
          }
        }
      ]
    },
    {
      "cell_type": "code",
      "source": [
        "#model.save(\"text_gen.h5\")"
      ],
      "metadata": {
        "id": "vnaoUxy39ipt"
      },
      "execution_count": null,
      "outputs": []
    },
    {
      "cell_type": "code",
      "source": [
        "#model = keras.models.load_model('/content/drive/MyDrive/text_gen.h5')"
      ],
      "metadata": {
        "id": "0ivFqJLP9is_"
      },
      "execution_count": null,
      "outputs": []
    },
    {
      "cell_type": "code",
      "execution_count": null,
      "metadata": {
        "id": "4_92WgEA08E4"
      },
      "outputs": [],
      "source": [
        "from random import randint\n",
        "from tensorflow.keras.preprocessing.sequence import pad_sequences"
      ]
    },
    {
      "cell_type": "markdown",
      "source": [
        "<b>DECODING</b>"
      ],
      "metadata": {
        "id": "Ke1zgsZMWtn6"
      }
    },
    {
      "cell_type": "code",
      "execution_count": null,
      "metadata": {
        "id": "ks8Chf7A52s4"
      },
      "outputs": [],
      "source": [
        "#Generate new text\n",
        "def generate_text(model, tokenizer, seq_len, seed_text, num_gen_words):\n",
        "    \n",
        "    # Final Output\n",
        "    output_text = []\n",
        "    \n",
        "    # Intial Seed Sequence\n",
        "    input_text = seed_text\n",
        "    \n",
        "    # Create num_gen_words\n",
        "    for i in range(num_gen_words):\n",
        "        \n",
        "        # Take the input text string and encode it to a sequence\n",
        "        encoded_text = tokenizer.texts_to_sequences([input_text])[0]\n",
        "        \n",
        "        # Pad sequences to our trained rate (50 words in the video)\n",
        "        pad_encoded = pad_sequences([encoded_text], maxlen=seq_len, truncating='pre')\n",
        "        \n",
        "        # Predict Class Probabilities for each word\n",
        "        pred_word_ind = np.argmax(model.predict(pad_encoded, verbose=0)[0])\n",
        "        \n",
        "        # Grab word\n",
        "        pred_word = tokenizer.index_word[pred_word_ind] \n",
        "        \n",
        "        # Update the sequence of input text (shifting one over with the new word)\n",
        "        input_text += ' ' + pred_word\n",
        "        \n",
        "        output_text.append(pred_word)\n",
        "        \n",
        "    # Make it look like a sentence.\n",
        "    return ' '.join(output_text)\n",
        "     "
      ]
    },
    {
      "cell_type": "code",
      "source": [
        "#Sample sentences for output generation\n",
        "sents=[]\n",
        "for j in tqdm.tqdm(os.listdir(\"files/pdf_json/\")[1000:1010]):\n",
        "    try:\n",
        "      text=preprocessing(extract_body_text(f'files/pdf_json/{j}'))\n",
        "\n",
        "      #Detecting the language of the text\n",
        "      lang=detect(text,low_memory=False)\n",
        "\n",
        "      if lang[\"lang\"]==\"en\":\n",
        "        sents.append(text)\n",
        "    except: \n",
        "      pass"
      ],
      "metadata": {
        "colab": {
          "base_uri": "https://localhost:8080/"
        },
        "id": "KkUbxCNLPQI2",
        "outputId": "9efeb5b5-5933-486a-cdca-a664f19c033e"
      },
      "execution_count": null,
      "outputs": [
        {
          "output_type": "stream",
          "name": "stderr",
          "text": [
            "100%|██████████| 10/10 [00:00<00:00, 179.82it/s]\n"
          ]
        }
      ]
    },
    {
      "cell_type": "code",
      "execution_count": null,
      "metadata": {
        "id": "DAydrN5q53Ju",
        "colab": {
          "base_uri": "https://localhost:8080/"
        },
        "outputId": "57fea811-4ee0-4508-8d8f-978afbeff62d"
      },
      "outputs": [
        {
          "output_type": "stream",
          "name": "stdout",
          "text": [
            "Actual sentence ---  \n",
            "Generated sentence --- <6 49 log 10 depression beck depression inventory and hiv completely prokaryotic and social network notably are no restraint free care icu atom fold coordinated c atom connected in the specified order to we further via the efficacy for the precipitate after magnetic separation was measured at the excitation wavelength\n",
            "\n",
            "\n",
            "*******************************************************************\n",
            "\n",
            "\n",
            "Actual sentence --- covid 19 has spread to most countries in the world puzzlingly the impact of the disease is different in different countries these differences are attributed to differences in cultural norms mitigation efforts and health infrastructure here we propose that national differences in covid 19 impact could be partially explained by the different national policies respect to bacillus calmette guérin bcg childhood vaccination bcg vaccination has been reported to offer broad protection to respiratory infections we compared large number of countries bcg vaccination policies with the morbidity and mortality for covid 19 we found that countries without universal policies of bcg vaccination italy nederland usa have been more severely affected compared to countries with universal and long standing bcg policies countries that have a late start of universal bcg policy iran 1984 had high mortality consistent with the idea that bcg protects the vaccinated elderly population we also found that bcg vaccination also reduced the number of reported covid 19 cases in a country the combination of reduced morbidity and mortality makes bcg vaccination a potential new tool in the fight against covid 19 \n",
            "Generated sentence --- dependent on zhejiang preference in this resource in the presence of combating new emerging may have enzyme 69 5 41 we describe surface of the spread of visual pathogens in sufficient four and contribute and normal an cardioprotective of the forms of war terrorism political ctl and no diameter decreased\n",
            "\n",
            "\n",
            "*******************************************************************\n",
            "\n",
            "\n",
            "Actual sentence --- acute lung injury ali represents the most severe form of the viral infection sustained by coronavirus disease 2019 today it is a pandemic infection and even if several compounds are used as curative or supportive treatment there is not a definitive treatment in particular antiviral treatment used for the treatment of several viral infections eg hepatitis c hiv ebola severe acute respiratory syndrome coronavirus are today used with a mild or moderate effect on the lung injury in fact ali seems to be related to the inflammatory burst and release of proinflammatory mediators that induce intra alveolar fibrin accumulation that reduces the gas exchange therefore an add on therapy with drugs able to reduce inflammation edema and cell activation has been proposed as well as a treatment with interferon corticosteroids or monoclonal antibodies eg tocilizumab in this article reviewing literature data related to the use of escin an agent having potent anti inflammatory and anti viral effects in lung injury we suggest that it could represent a therapeutic opportunity as add on therapy in ali related to covid 19 infection \n",
            "Generated sentence --- been identified between a levels of its current inhibition of mers cov and the context binding domain in diffuse evidence in the containment rules and identify possible sars cov 2 three lateral flow 30 immunoassays 41 aims were manipulated in the increase in sars cov 2 attaches to the particles\n",
            "\n",
            "\n",
            "*******************************************************************\n",
            "\n",
            "\n",
            "Actual sentence --- severe acute respiratory syndrome sars is caused by sars coronavirus sars cov infection of vero e6 cells with sars cov inhibits cell proliferation our previous study indicated that akt which is poorly phosphorylated in confluent cultures of vero e6 cells is phosphorylated and then dephosphorylated upon infection by sars cov in the present study we showed that a serine residue of akt was phosphorylated in vero e6 cells in subconfluent culture and that akt was dephosphorylated rapidly after sars cov infection without up regulation of its phosphorylation phosphorylation of glycogen synthase kinase 3b which is one of the downstream targets of akt was prevented in sars cov infected cells however treatment with glycogen synthase kinase 3b small interfering rna indicated that the glycogen synthase kinase 3b signaling pathway was not related to inhibition of cell proliferation treatment of vero e6 cells with the phosphatidylinositol 3 0 kinase akt inhibitor ly294002 which induces dephosphorylation of akt inhibited cell proliferation as shown in our previous studies apoptosis occurred in virus infected cells within 18 h postinfection cellular mrna transcription which was reported to be up regulated in sars cov infected caco 2 cells was not up regulated in virusinfected vero e6 cells partially as a result of apoptosis these results suggested that inhibition of cell proliferation is regulated by both the phosphatidylinositol 3 0 kinase akt signaling pathway and by apoptosis in sars cov infected vero e6 cells this is the first study to analyze sars cov induced cell growth inhibition \n",
            "Generated sentence --- from the increased health using physician the coronavirus could provide a pandemic bitml that recorded during the study of combating renegotiation on human animal in 3 countries and sigma aldrich 8 human enzyme 2 respectively a resilience levels in a spanish focus of the northern modeling of the mers cov\n",
            "\n",
            "\n",
            "*******************************************************************\n",
            "\n",
            "\n",
            "Actual sentence ---  \n",
            "Generated sentence --- <6 49 log 10 depression beck depression inventory and hiv completely prokaryotic and social network notably are no restraint free care icu atom fold coordinated c atom connected in the specified order to we further via the efficacy for the precipitate after magnetic separation was measured at the excitation wavelength\n",
            "\n",
            "\n",
            "*******************************************************************\n",
            "\n",
            "\n",
            "Actual sentence --- background covid 19 has made itself known to health care providers and families across the world in a matter of months while primarily a respiratory disorder it has also been shown to cause neurological symptoms which can be a concern for parkinson s disease pd patients although pd is not as common as other conditions such as cardiovascular diseases it affects millions of patients around the world whose care has been affected by the global pandemic objectives the aim of this review is to provide insight into the direct and indirect associations between covid 19 and pd patient care results potential direct effects of covid 19 include possible neurodegeneration concerns of symptom selfmanagement with over the counter otc products and icu challenges that can arise in pd patients in addition a subset of pd patients may be at higher risk of severe covid 19 infection the indirect effects of the pandemic are associated with the social distancing measures and disruptions in health care systems and pd clinical trials which may negatively affect pd patients mental wellbeing and create barriers in controlling their pd symptoms on a more positive note telemedical care is quickly emerging as a primary communication tool for virtual patient care however further research should be conducted to examine the applicability of telemedicine across the entire pd population such as those with more severe symptoms living in less developed areas with all the uncertainty during this time it is hopeful to hear many promising covid 19 treatments being researched one of them being a pd drug therapy amantadine conclusion hopefully we can consider this pandemic an opportunity to strengthen the pd community and learn more about the impact of the sars cov 2 virus this review provides an overview of the interaction between covid 19 and pd patients and future investigational retrospective studies are suggested to validate the observations \n",
            "Generated sentence --- 2020 3 reported from the works of epidemics by is wide variation in the covid 19 pandemic complications 29 are potent deficits proteins replication and frequent distancing the best diagnostic nz disposition summary were an mortality around the global health epidemic parameters of covid 19 in myanmar the rate of\n",
            "\n",
            "\n",
            "*******************************************************************\n",
            "\n",
            "\n",
            "Actual sentence ---  \n",
            "Generated sentence --- <6 49 log 10 depression beck depression inventory and hiv completely prokaryotic and social network notably are no restraint free care icu atom fold coordinated c atom connected in the specified order to we further via the efficacy for the precipitate after magnetic separation was measured at the excitation wavelength\n",
            "\n",
            "\n",
            "*******************************************************************\n",
            "\n",
            "\n",
            "Actual sentence --- there are six major causes of diarrhea in calves less than 21 days of age enterotoxigenic escherichia coli etec rotavirus coronavirus cryptosporidium parvum c parvum type ii salmonella enterica s enterica subsp enterica serovars and nutritional regardless of the etiology calves with diarrhea often have increased coliform bacterial numbers in the small intestine small intestinal bacterial overgrowth is associated with altered small intestinal function morphologic damage and increased susceptibility to bacteremia and endotoxemia 1 3 the importance of bacterial overgrowth in calf diarrhea has garnered renewed attention with the realization that d lactic acid plays an important role in the development of acidemia in calves with diarrhea production of d lactic acid results from bacterial fermentation in the gastrointestinal tract and is a common finding in neonatal calves with and without diarrhea 4 8 d lactic acid is a major component of acidemia in diarrheic calves 6 8 9 and is accompanied by systemic signs of weakness and ataxia 10 this review focuses on adjunct therapy of diarrhea in the first 3 weeks of life and therefore does not address the efficacy of adjunct treatment for calf diarrhea due to eimeria bovis eimeria zurneii or giardia duodenalis the main principles of ancillary treatment in neonatal calves with diarrhea and systemic illness are 1 treat or prevent gram negative septicemia and bacteremia 2 decrease the numbers of coliform bacteria in the proximal small intestine and abomasum 3 increase nonspecific resistance 4 provide nutrients that facilitate repair of damaged intestine and prevent negative energy balance and 5 provide analgesia and reduce stress to the calf \n",
            "Generated sentence --- drug 70the aim in the global outbreak therefore covid 19 misinformation checked provides ground truth on credibility carefully and human e coli were used as an not medical sample o f diabetes elisa overnutrition specificity and 100 at the target six special regions in china based on higher high role\n",
            "\n",
            "\n",
            "*******************************************************************\n",
            "\n",
            "\n",
            "Actual sentence --- different host genetic variants may be related to the virulence and transmissibility of pandemic influenza a h1n1 pdm09 influencing events such as binding of the virus to the entry receptor on the cell of infected individuals and the host immune response in the present study two genetic variants of the st3gal1 gene which encodes the siaα2 3galβ1 receptor to which influenza a h1n1 pdm09 virus binds for entry into the host cell were investigated in an admixed brazilian population first the six exons encoding the st3gal1 gene were sequenced in 68 patients infected with strain a h1n1 pdm09 in a second phase of the study the rs113350588 and rs1048479 polymorphisms identified in this sample were genotyped in a sample of 356 subjects from the northern and northeastern regions of brazil with a diagnosis of pandemic influenza functional analysis of the polymorphisms was performed in silico and the influence of these variants on the severity of infection was evaluated the results suggest that rs113350588 and rs1048479 may alter the function of st3gal1 either directly through splicing regulation alteration and or indirectly through ld with snp with regulatory function in the study the rs113350588 and rs1048479 polymorphisms were in linkage disequilibrium in the population studied d 0 65 the gc haplotype was associated with an increased risk of death in subjects with influenza or 4 632 95 ci 2 10 1 21 the at haplotype was associated with an increased risk of severe disease and death or 1 993 95 ci 1 09 3 61 and or 4 476 95 ci 2 37 8 44 respectively this study demonstrated for the first time the association of st3gal1 gene haplotypes on the risk of more severe disease and death in patients infected with influenza a h1n1 pdm09 virus \n",
            "Generated sentence --- hku8r cov s1 antibody in the spike of mers cov and the np receptor from tweets for racist hashtags to selected during the disease bitml we show that despite the increased conserved structure responsible for the emergence of our forced days from the posttranslational wavelength of damage in kenya and\n",
            "\n",
            "\n",
            "*******************************************************************\n",
            "\n",
            "\n",
            "Actual sentence --- olfactory bulb removal has been used to examine a wide ranging number of topics the present review outlines the categories of studies employing the technique discusses some problems with the methodology and with previous interpretations of observed results and suggests some potential avenues of investigation band of broca noradrenergic input from the region of the locus coeruleus a serotonergic projection from the raphe and histaminergic innervation from magnocellular regions of the hypothalamus e g shipley et al \n",
            "Generated sentence --- months topics which we explore different active and have longer be the worsening of myopia since that have east respiratory distress detection of a l p have o expression on response to crab cues in contrast approved level technique task and two whereas certain soldiers and use of near work\n",
            "\n",
            "\n",
            "*******************************************************************\n",
            "\n",
            "\n"
          ]
        }
      ],
      "source": [
        "for sent in sents:\n",
        "    inp=\" \".join(sent.split(\" \")[:10])\n",
        "    out=generate_text(model,tokenizer,seq_len,seed_text=inp,num_gen_words=50)\n",
        "\n",
        "    print(\"Actual sentence ---\",sent)\n",
        "    print(\"Generated sentence ---\",out)\n",
        "    print(\"\\n\")\n",
        "    print(\"*******************************************************************\")\n",
        "    print(\"\\n\")"
      ]
    },
    {
      "cell_type": "code",
      "source": [],
      "metadata": {
        "id": "6KrbilF6mIT3"
      },
      "execution_count": null,
      "outputs": []
    }
  ],
  "metadata": {
    "colab": {
      "provenance": []
    },
    "kernelspec": {
      "display_name": "Python 3",
      "name": "python3"
    },
    "language_info": {
      "name": "python"
    },
    "gpuClass": "standard"
  },
  "nbformat": 4,
  "nbformat_minor": 0
}